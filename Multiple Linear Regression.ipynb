{
 "cells": [
  {
   "cell_type": "markdown",
   "id": "90432af8-671f-4c98-927f-6c8947c82e55",
   "metadata": {},
   "source": [
    "### Data"
   ]
  },
  {
   "cell_type": "code",
   "execution_count": 53,
   "id": "a8c08df3",
   "metadata": {
    "scrolled": true
   },
   "outputs": [
    {
     "data": {
      "text/html": [
       "<div>\n",
       "<style scoped>\n",
       "    .dataframe tbody tr th:only-of-type {\n",
       "        vertical-align: middle;\n",
       "    }\n",
       "\n",
       "    .dataframe tbody tr th {\n",
       "        vertical-align: top;\n",
       "    }\n",
       "\n",
       "    .dataframe thead th {\n",
       "        text-align: right;\n",
       "    }\n",
       "</style>\n",
       "<table border=\"1\" class=\"dataframe\">\n",
       "  <thead>\n",
       "    <tr style=\"text-align: right;\">\n",
       "      <th></th>\n",
       "      <th>1</th>\n",
       "      <th>2</th>\n",
       "      <th>3</th>\n",
       "      <th>4</th>\n",
       "      <th>5</th>\n",
       "      <th>6</th>\n",
       "    </tr>\n",
       "  </thead>\n",
       "  <tbody>\n",
       "    <tr>\n",
       "      <th>y</th>\n",
       "      <td>2</td>\n",
       "      <td>4</td>\n",
       "      <td>5</td>\n",
       "      <td>7</td>\n",
       "      <td>6</td>\n",
       "      <td>9</td>\n",
       "    </tr>\n",
       "    <tr>\n",
       "      <th>x1</th>\n",
       "      <td>3</td>\n",
       "      <td>5</td>\n",
       "      <td>7</td>\n",
       "      <td>9</td>\n",
       "      <td>11</td>\n",
       "      <td>15</td>\n",
       "    </tr>\n",
       "    <tr>\n",
       "      <th>x2</th>\n",
       "      <td>4</td>\n",
       "      <td>7</td>\n",
       "      <td>10</td>\n",
       "      <td>15</td>\n",
       "      <td>20</td>\n",
       "      <td>22</td>\n",
       "    </tr>\n",
       "  </tbody>\n",
       "</table>\n",
       "</div>"
      ],
      "text/plain": [
       "    1  2   3   4   5   6\n",
       "y   2  4   5   7   6   9\n",
       "x1  3  5   7   9  11  15\n",
       "x2  4  7  10  15  20  22"
      ]
     },
     "execution_count": 53,
     "metadata": {},
     "output_type": "execute_result"
    }
   ],
   "source": [
    "import pandas as pd\n",
    "import matplotlib.pyplot as plt\n",
    "import numpy as np\n",
    "y = [2,4,5,7,6,9] #dependent variable \n",
    "x1 = [3,5,7,9,11,15] #independent variable\n",
    "x2 = [4,7,10,15,20,22] #independent variable\n",
    "data = {\"y\":y,\"x1\":x1,\"x2\":x2}\n",
    "df = pd.DataFrame(data)\n",
    "df.index+=1\n",
    "df.T"
   ]
  },
  {
   "cell_type": "markdown",
   "id": "ef6fea5d",
   "metadata": {},
   "source": [
    "### Solution with matrix method"
   ]
  },
  {
   "cell_type": "code",
   "execution_count": 55,
   "id": "d8793688",
   "metadata": {},
   "outputs": [
    {
     "name": "stdout",
     "output_type": "stream",
     "text": [
      "x\n",
      "[[ 1.  3.  4.]\n",
      " [ 1.  5.  7.]\n",
      " [ 1.  7. 10.]\n",
      " [ 1.  9. 15.]\n",
      " [ 1. 11. 20.]\n",
      " [ 1. 15. 22.]]\n",
      "\n",
      "x'\n",
      "[[ 1.  1.  1.  1.  1.  1.]\n",
      " [ 3.  5.  7.  9. 11. 15.]\n",
      " [ 4.  7. 10. 15. 20. 22.]]\n",
      "\n",
      "x'x\n",
      "[[   6.   50.   78.]\n",
      " [  50.  510.  802.]\n",
      " [  78.  802. 1274.]]\n",
      "\n",
      "y\n",
      "[2, 4, 5, 7, 6, 9]\n",
      "\n",
      "x'y\n",
      "[[ 33.]\n",
      " [325.]\n",
      " [509.]]\n",
      "\n",
      "(x'x)^-1\n",
      "[[ 0.93692661 -0.16399083  0.04587156]\n",
      " [-0.16399083  0.22362385 -0.13073394]\n",
      " [ 0.04587156 -0.13073394  0.08027523]]\n",
      "\n",
      "((x'x)^-1)*(x'y)\n",
      "[[ 0.97018349]\n",
      " [ 0.72247706]\n",
      " [-0.1146789 ]] \n",
      "\n",
      "Y predicted model = 0.9702 + 0.7225 * x1 + -0.1147 * x2 \n",
      "\n",
      "Predicted values =  [2.6789 3.7798 4.8807 5.7522 6.6237 9.2843]\n",
      "\n",
      "r_squared =  0.9135070766101695\n"
     ]
    }
   ],
   "source": [
    "n = len(y)\n",
    "x = np.matrix([np.ones(n),x1,x2]).T\n",
    "xx = np.dot(x.T,x)\n",
    "xinv = np.linalg.inv(xx) #(x'x)-1\n",
    "xy = np.dot(x.T,np.matrix(y).T)  #x'y\n",
    "beta = xinv*xy\n",
    "\n",
    "b0 = np.round(beta[0].item(0),4)\n",
    "b1 = np.round(beta[1].item(0),4)\n",
    "b2 = np.round(beta[2].item(0),4)\n",
    "\n",
    "print(f\"x\\n{x}\\n\\nx'\\n{x.T}\\n\\nx'x\\n{xx}\\n\\ny\\n{y}\\n\\nx'y\\n{xy}\\n\\n(x'x)^-1\\n{xinv}\\n\\n((x'x)^-1)*(x'y)\\n{beta}\",\n",
    "f\"\\n\\nY predicted model = {b0} + {b1} * x1 + {b2} * x2 \")\n",
    "\n",
    "predicts = []\n",
    "for i in range(n):\n",
    "    predicts.append(b0+b1*x1[i]+b2*x2[i])\n",
    "predicts = np.round(predicts,4)\n",
    "print(\"\\nPredicted values = \",predicts)\n",
    "\n",
    "# R Squared\n",
    "sres = 0\n",
    "stot = 0\n",
    "err = np.zeros(n)\n",
    "for i in range(n):\n",
    "    err[i]=y[i]-predicts[i]\n",
    "    sres += (predicts[i]-np.mean(y))**2\n",
    "    stot+=(np.square(y[i]-np.mean(y)))\n",
    "rs = []\n",
    "r_squared = ((sres/stot))\n",
    "print(\"\\nr_squared = \",r_squared)"
   ]
  },
  {
   "cell_type": "markdown",
   "id": "cddf5f8f",
   "metadata": {},
   "source": [
    "### Use Sklearn library"
   ]
  },
  {
   "cell_type": "code",
   "execution_count": 56,
   "id": "ae536bd4-5979-4b4d-a78c-afbddeff09cc",
   "metadata": {
    "tags": []
   },
   "outputs": [
    {
     "name": "stdout",
     "output_type": "stream",
     "text": [
      "Predicted model = 0.9702 + 0.7225 * x1  + -0.1147 * x2 \n",
      "\n",
      "Predicted Values\n",
      "[[2.67889908]\n",
      " [3.77981651]\n",
      " [4.88073394]\n",
      " [5.75229358]\n",
      " [6.62385321]\n",
      " [9.28440367]] \n",
      "\n",
      "Mean Squared Error = 0.4250764525993884\n",
      "\n",
      "Rsquare = 0.9135437723526667\n"
     ]
    }
   ],
   "source": [
    "from sklearn.linear_model import LinearRegression\n",
    "from sklearn.metrics import mean_squared_error\n",
    "import pandas as pd\n",
    "y = [2,4,5,7,6,9]\n",
    "x1 = [3,5,7,9,11,15]\n",
    "x2 = [4,7,10,15,20,22]\n",
    "data = pd.DataFrame({\"y\":y,\"x1\":x1,\"x2\":x2})\n",
    "\n",
    "X = data.drop(\"y\",axis=1)\n",
    "y = data[[\"y\"]]\n",
    "\n",
    "model = LinearRegression().fit(X,y)\n",
    "b0 = np.round(model.intercept_.item(0),4)\n",
    "b1 = np.round(model.coef_[0][0].item(0),4)\n",
    "b2 = np.round(model.coef_[0][1].item(0),4)\n",
    "predicts = model.predict(X)\n",
    "err = mean_squared_error(y,predicts)\n",
    "print(f\"Predicted model = {b0} + {b1} * x1  + {b2} * x2 \\n\\nPredicted Values\\n{model.predict(X)}\",\n",
    "      f\"\\n\\nMean Squared Error = {err}\\n\\nRsquare = {model.score(X,y)}\")"
   ]
  },
  {
   "cell_type": "markdown",
   "id": "6a0865cb",
   "metadata": {},
   "source": [
    "### Scatter Plot"
   ]
  },
  {
   "cell_type": "code",
   "execution_count": 57,
   "id": "f8be20a5",
   "metadata": {
    "scrolled": true
   },
   "outputs": [
    {
     "data": {
      "text/plain": [
       "<matplotlib.legend.Legend at 0x1daeab9b6a0>"
      ]
     },
     "execution_count": 57,
     "metadata": {},
     "output_type": "execute_result"
    },
    {
     "data": {
      "image/png": "[encoded data removed]",
      "text/plain": [
       "<Figure size 720x360 with 1 Axes>"
      ]
     },
     "metadata": {
      "needs_background": "light"
     },
     "output_type": "display_data"
    }
   ],
   "source": [
    "plt.figure(figsize=(10,5))\n",
    "plt.scatter(x1,y,label=\"x1\")\n",
    "plt.scatter(x2,y,label=\"x2\")\n",
    "plt.legend()"
   ]
  },
  {
   "cell_type": "markdown",
   "id": "579af7d2",
   "metadata": {},
   "source": [
    "### The relationships between the Y and Predicted Y values"
   ]
  },
  {
   "cell_type": "code",
   "execution_count": 58,
   "id": "539a443a",
   "metadata": {},
   "outputs": [
    {
     "data": {
      "text/plain": [
       "<matplotlib.legend.Legend at 0x1daeabe4850>"
      ]
     },
     "execution_count": 58,
     "metadata": {},
     "output_type": "execute_result"
    },
    {
     "data": {
      "image/png": "[encoded data removed]",
      "text/plain": [
       "<Figure size 720x360 with 1 Axes>"
      ]
     },
     "metadata": {
      "needs_background": "light"
     },
     "output_type": "display_data"
    }
   ],
   "source": [
    "plt.figure(figsize=(10,5))\n",
    "plt.plot(y,\"o--\",label=\"Y\")\n",
    "plt.plot(predicts ,\"o-\",label = \"Predicted Y\",color=\"orange\")\n",
    "plt.legend()"
   ]
  },
  {
   "cell_type": "markdown",
   "id": "441d2fb4",
   "metadata": {},
   "source": [
    "### Use Ordinary Least Squares "
   ]
  },
  {
   "cell_type": "code",
   "execution_count": 59,
   "id": "3aff8d3e",
   "metadata": {},
   "outputs": [
    {
     "name": "stderr",
     "output_type": "stream",
     "text": [
   
     ]
    },
    {
     "data": {
      "text/html": [
       "<table class=\"simpletable\">\n",
       "<caption>OLS Regression Results</caption>\n",
       "<tr>\n",
       "  <th>Dep. Variable:</th>            <td>y</td>        <th>  R-squared (uncentered):</th>      <td>   0.983</td>\n",
       "</tr>\n",
       "<tr>\n",
       "  <th>Model:</th>                   <td>OLS</td>       <th>  Adj. R-squared (uncentered):</th> <td>   0.975</td>\n",
       "</tr>\n",
       "<tr>\n",
       "  <th>Method:</th>             <td>Least Squares</td>  <th>  F-statistic:       </th>          <td>   116.7</td>\n",
       "</tr>\n",
       "<tr>\n",
       "  <th>Date:</th>             <td>Sun, 02 Jan 2022</td> <th>  Prob (F-statistic):</th>          <td>0.000284</td>\n",
       "</tr>\n",
       "<tr>\n",
       "  <th>Time:</th>                 <td>13:21:04</td>     <th>  Log-Likelihood:    </th>          <td> -6.9435</td>\n",
       "</tr>\n",
       "<tr>\n",
       "  <th>No. Observations:</th>      <td>     6</td>      <th>  AIC:               </th>          <td>   17.89</td>\n",
       "</tr>\n",
       "<tr>\n",
       "  <th>Df Residuals:</th>          <td>     4</td>      <th>  BIC:               </th>          <td>   17.47</td>\n",
       "</tr>\n",
       "<tr>\n",
       "  <th>Df Model:</th>              <td>     2</td>      <th>                     </th>              <td> </td>   \n",
       "</tr>\n",
       "<tr>\n",
       "  <th>Covariance Type:</th>      <td>nonrobust</td>    <th>                     </th>              <td> </td>   \n",
       "</tr>\n",
       "</table>\n",
       "<table class=\"simpletable\">\n",
       "<tr>\n",
       "   <td></td>     <th>coef</th>     <th>std err</th>      <th>t</th>      <th>P>|t|</th>  <th>[0.025</th>    <th>0.975]</th>  \n",
       "</tr>\n",
       "<tr>\n",
       "  <th>x1</th> <td>    0.8923</td> <td>    0.416</td> <td>    2.144</td> <td> 0.099</td> <td>   -0.263</td> <td>    2.048</td>\n",
       "</tr>\n",
       "<tr>\n",
       "  <th>x2</th> <td>   -0.1622</td> <td>    0.263</td> <td>   -0.616</td> <td> 0.571</td> <td>   -0.893</td> <td>    0.569</td>\n",
       "</tr>\n",
       "</table>\n",
       "<table class=\"simpletable\">\n",
       "<tr>\n",
       "  <th>Omnibus:</th>       <td>   nan</td> <th>  Durbin-Watson:     </th> <td>   1.572</td>\n",
       "</tr>\n",
       "<tr>\n",
       "  <th>Prob(Omnibus):</th> <td>   nan</td> <th>  Jarque-Bera (JB):  </th> <td>   0.358</td>\n",
       "</tr>\n",
       "<tr>\n",
       "  <th>Skew:</th>          <td> 0.239</td> <th>  Prob(JB):          </th> <td>   0.836</td>\n",
       "</tr>\n",
       "<tr>\n",
       "  <th>Kurtosis:</th>      <td> 1.903</td> <th>  Cond. No.          </th> <td>    22.0</td>\n",
       "</tr>\n",
       "</table><br/><br/>Notes:<br/>[1] R² is computed without centering (uncentered) since the model does not contain a constant.<br/>[2] Standard Errors assume that the covariance matrix of the errors is correctly specified."
      ],
      "text/plain": [
       "<class 'statsmodels.iolib.summary.Summary'>\n",
       "\"\"\"\n",
       "                                 OLS Regression Results                                \n",
       "=======================================================================================\n",
       "Dep. Variable:                      y   R-squared (uncentered):                   0.983\n",
       "Model:                            OLS   Adj. R-squared (uncentered):              0.975\n",
       "Method:                 Least Squares   F-statistic:                              116.7\n",
       "Date:                Sun, 02 Jan 2022   Prob (F-statistic):                    0.000284\n",
       "Time:                        13:21:04   Log-Likelihood:                         -6.9435\n",
       "No. Observations:                   6   AIC:                                      17.89\n",
       "Df Residuals:                       4   BIC:                                      17.47\n",
       "Df Model:                           2                                                  \n",
       "Covariance Type:            nonrobust                                                  \n",
       "==============================================================================\n",
       "                 coef    std err          t      P>|t|      [0.025      0.975]\n",
       "------------------------------------------------------------------------------\n",
       "x1             0.8923      0.416      2.144      0.099      -0.263       2.048\n",
       "x2            -0.1622      0.263     -0.616      0.571      -0.893       0.569\n",
       "==============================================================================\n",
       "Omnibus:                          nan   Durbin-Watson:                   1.572\n",
       "Prob(Omnibus):                    nan   Jarque-Bera (JB):                0.358\n",
       "Skew:                           0.239   Prob(JB):                        0.836\n",
       "Kurtosis:                       1.903   Cond. No.                         22.0\n",
       "==============================================================================\n",
       "\n",
       "Notes:\n",
       "[1] R² is computed without centering (uncentered) since the model does not contain a constant.\n",
       "[2] Standard Errors assume that the covariance matrix of the errors is correctly specified.\n",
       "\"\"\""
      ]
     },
     "execution_count": 59,
     "metadata": {},
     "output_type": "execute_result"
    }
   ],
   "source": [
    "from statsmodels.api import OLS\n",
    "\n",
    "olsmodel = OLS(y,X).fit()\n",
    "olsmodel.summary()\n",
    "\n",
    "#Prob(F-statistic)=p-value < 0.005 "
   ]
  }
 ],
 "metadata": {
  "kernelspec": {
   "display_name": "Python 3",
   "language": "python",
   "name": "python3"
  },
  "language_info": {
   "codemirror_mode": {
    "name": "ipython",
    "version": 3
   },
   "file_extension": ".py",
   "mimetype": "text/x-python",
   "name": "python",
   "nbconvert_exporter": "python",
   "pygments_lexer": "ipython3",
   "version": "3.8.8"
  }
 },
 "nbformat": 4,
 "nbformat_minor": 5
}
