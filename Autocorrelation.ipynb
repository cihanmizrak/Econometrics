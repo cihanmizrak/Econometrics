{
 "cells": [
  {
   "cell_type": "code",
   "execution_count": 39,
   "id": "8086b37b-5814-4db6-837a-8af51ce82166",
   "metadata": {},
   "outputs": [
    {
     "data": {
      "text/html": [
       "<div>\n",
       "<style scoped>\n",
       "    .dataframe tbody tr th:only-of-type {\n",
       "        vertical-align: middle;\n",
       "    }\n",
       "\n",
       "    .dataframe tbody tr th {\n",
       "        vertical-align: top;\n",
       "    }\n",
       "\n",
       "    .dataframe thead th {\n",
       "        text-align: right;\n",
       "    }\n",
       "</style>\n",
       "<table border=\"1\" class=\"dataframe\">\n",
       "  <thead>\n",
       "    <tr style=\"text-align: right;\">\n",
       "      <th></th>\n",
       "      <th>1</th>\n",
       "      <th>2</th>\n",
       "      <th>3</th>\n",
       "      <th>4</th>\n",
       "      <th>5</th>\n",
       "      <th>6</th>\n",
       "      <th>7</th>\n",
       "      <th>8</th>\n",
       "    </tr>\n",
       "  </thead>\n",
       "  <tbody>\n",
       "    <tr>\n",
       "      <th>Y</th>\n",
       "      <td>10</td>\n",
       "      <td>17</td>\n",
       "      <td>16</td>\n",
       "      <td>15</td>\n",
       "      <td>22</td>\n",
       "      <td>31</td>\n",
       "      <td>8</td>\n",
       "      <td>45</td>\n",
       "    </tr>\n",
       "    <tr>\n",
       "      <th>X</th>\n",
       "      <td>2</td>\n",
       "      <td>3</td>\n",
       "      <td>4</td>\n",
       "      <td>5</td>\n",
       "      <td>6</td>\n",
       "      <td>7</td>\n",
       "      <td>8</td>\n",
       "      <td>9</td>\n",
       "    </tr>\n",
       "  </tbody>\n",
       "</table>\n",
       "</div>"
      ],
      "text/plain": [
       "    1   2   3   4   5   6  7   8\n",
       "Y  10  17  16  15  22  31  8  45\n",
       "X   2   3   4   5   6   7  8   9"
      ]
     },
     "execution_count": 39,
     "metadata": {},
     "output_type": "execute_result"
    }
   ],
   "source": [
    "import pandas as pd\n",
    "y = [10,17,16,15,22,31,8,45]\n",
    "x = [2,3,4,5,6,7,8,9]\n",
    "#y = [12,14.4,14.6,16,11.3,10,16.2,10.4,13.1,11.3]\n",
    "#x = [12,21,18,22,13,10,23,11,16,14]\n",
    "df = pd.DataFrame({\"Y\":y,\"X\":x})\n",
    "df.index+=1\n",
    "df.T"
   ]
  },
  {
   "cell_type": "markdown",
   "id": "290a339b-9b7f-4078-a76d-3297e89146b0",
   "metadata": {},
   "source": [
    "### Least Squares Method"
   ]
  },
  {
   "cell_type": "code",
   "execution_count": 40,
   "id": "9b491d01-0136-4385-9c76-85dabca69bb9",
   "metadata": {},
   "outputs": [
    {
     "name": "stdout",
     "output_type": "stream",
     "text": [
      "x\n",
      "[[1. 2.]\n",
      " [1. 3.]\n",
      " [1. 4.]\n",
      " [1. 5.]\n",
      " [1. 6.]\n",
      " [1. 7.]\n",
      " [1. 8.]\n",
      " [1. 9.]]\n",
      "\n",
      "x'\n",
      "[[1. 1. 1. 1. 1. 1. 1. 1.]\n",
      " [2. 3. 4. 5. 6. 7. 8. 9.]]\n",
      "\n",
      "x'x\n",
      "[[  8.  44.]\n",
      " [ 44. 284.]]\n",
      "\n",
      "y\n",
      "[[10]\n",
      " [17]\n",
      " [16]\n",
      " [15]\n",
      " [22]\n",
      " [31]\n",
      " [ 8]\n",
      " [45]]\n",
      "\n",
      "x'y\n",
      "[[ 164.]\n",
      " [1028.]]\n",
      "\n",
      "(x'x)^-1\n",
      "[[ 0.8452381  -0.13095238]\n",
      " [-0.13095238  0.02380952]]\n",
      "\n",
      "((x'x)^-1)*(x'y)\n",
      "[[4.]\n",
      " [3.]] \n",
      "\n",
      "Y predicted model = 4.0 + 3.0 * x1 \n",
      "\n",
      "Predicted values =  [10. 13. 16. 19. 22. 25. 28. 31.]\n",
      "\n",
      "Errors = [  0.   4.   0.  -4.   0.   6. -20.  14.]\n",
      "\n",
      "Error's Squares = [0.0, 16.0, 0.0, 16.0, 0.0, 36.0, 400.0, 196.0] \n"
     ]
    }
   ],
   "source": [
    "import matplotlib.pyplot as plt\n",
    "import numpy as np\n",
    "y = np.matrix(y).T #dependent variable \n",
    "x1 = x #independent variable\n",
    "\n",
    "x = np.matrix([np.ones(len(y)),x1]).T\n",
    "xx = np.dot(x.T,x)\n",
    "xinv = np.linalg.inv(xx) #(x'x)-1\n",
    "xy = np.dot(x.T,y)  #x'y\n",
    "beta = xinv*xy\n",
    "\n",
    "b0 = np.round(beta[0].item(0),4)\n",
    "b1 = np.round(beta[1].item(0),4)\n",
    "\n",
    "print(f\"x\\n{x}\\n\\nx'\\n{x.T}\\n\\nx'x\\n{xx}\\n\\ny\\n{y}\\n\\nx'y\\n{xy}\\n\\n(x'x)^-1\\n{xinv}\\n\\n((x'x)^-1)*(x'y)\\n{beta}\",\n",
    "f\"\\n\\nY predicted model = {b0} + {b1} * x1 \")\n",
    "\n",
    "predicts = list(map(lambda x:b0+b1*x,x1))\n",
    "predicts = np.array(np.round(predicts,4))\n",
    "print(\"\\nPredicted values = \",predicts)\n",
    "\n",
    "err = np.zeros(len(y))\n",
    "n = len(y)\n",
    "\n",
    "for i in range(len(y)):\n",
    "    \n",
    "    err[i]=y[i]-predicts[i]\n",
    "\n",
    "errs = list(map(lambda i :i**2,err))\n",
    "print(f\"\\nErrors = {err}\\n\\nError's Squares = {errs} \")"
   ]
  },
  {
   "cell_type": "markdown",
   "id": "e7958c6a-b3b2-424c-bb92-64c2ac6bb805",
   "metadata": {},
   "source": [
    "### Standardization Residuals Analysis"
   ]
  },
  {
   "cell_type": "code",
   "execution_count": 41,
   "id": "cd9d13cd-4b53-4913-90a7-54d4783ced58",
   "metadata": {},
   "outputs": [
    {
     "name": "stdout",
     "output_type": "stream",
     "text": [
      "     1       2    3       4    5        6         7         8\n",
      "0  0.0  0.4107  0.0 -0.4107  0.0  0.61605 -2.053501  1.437451\n",
      "\n",
      "Mean Squared Error = 94.85714285714286\n",
      "\n",
      "-2.0535 is should examine\n"
     ]
    }
   ],
   "source": [
    "sse =np.sum(list(map(lambda x : x**2,err)))\n",
    "\n",
    "mse = sse/(len(y)-1)\n",
    "sigma = np.sqrt(mse)\n",
    "d = []\n",
    "for i in err:\n",
    "    d.append(i/sigma)\n",
    "df2 = pd.DataFrame(d)\n",
    "df2.index+=1\n",
    "print(df2.T)\n",
    "print(f\"\\nMean Squared Error = {mse}\")\n",
    "for i in d:\n",
    "    if i>=2 or i<=-2:\n",
    "        print(f\"\\n{np.round(i,4)} is should examine\")\n",
    "        "
   ]
  },
  {
   "cell_type": "markdown",
   "id": "fdaaa6d2-5633-4588-88ee-ef1536644f73",
   "metadata": {},
   "source": [
    "### Heteroskedasticity Problem"
   ]
  },
  {
   "cell_type": "code",
   "execution_count": 42,
   "id": "1eb39df8-3c58-442b-af4b-009bcd175b10",
   "metadata": {},
   "outputs": [
    {
     "data": {
      "text/html": [
       "<div>\n",
       "<style scoped>\n",
       "    .dataframe tbody tr th:only-of-type {\n",
       "        vertical-align: middle;\n",
       "    }\n",
       "\n",
       "    .dataframe tbody tr th {\n",
       "        vertical-align: top;\n",
       "    }\n",
       "\n",
       "    .dataframe thead th {\n",
       "        text-align: right;\n",
       "    }\n",
       "</style>\n",
       "<table border=\"1\" class=\"dataframe\">\n",
       "  <thead>\n",
       "    <tr style=\"text-align: right;\">\n",
       "      <th></th>\n",
       "      <th>1</th>\n",
       "      <th>2</th>\n",
       "      <th>3</th>\n",
       "      <th>4</th>\n",
       "      <th>5</th>\n",
       "      <th>6</th>\n",
       "      <th>7</th>\n",
       "      <th>8</th>\n",
       "    </tr>\n",
       "  </thead>\n",
       "  <tbody>\n",
       "    <tr>\n",
       "      <th>Y</th>\n",
       "      <td>10.0</td>\n",
       "      <td>17.00</td>\n",
       "      <td>16.0</td>\n",
       "      <td>15.00</td>\n",
       "      <td>22.0</td>\n",
       "      <td>31.0</td>\n",
       "      <td>8.0</td>\n",
       "      <td>45.0</td>\n",
       "    </tr>\n",
       "    <tr>\n",
       "      <th>X</th>\n",
       "      <td>2.0</td>\n",
       "      <td>3.00</td>\n",
       "      <td>4.0</td>\n",
       "      <td>5.00</td>\n",
       "      <td>6.0</td>\n",
       "      <td>7.0</td>\n",
       "      <td>8.0</td>\n",
       "      <td>9.0</td>\n",
       "    </tr>\n",
       "    <tr>\n",
       "      <th>rank(x)</th>\n",
       "      <td>1.0</td>\n",
       "      <td>2.00</td>\n",
       "      <td>3.0</td>\n",
       "      <td>4.00</td>\n",
       "      <td>5.0</td>\n",
       "      <td>6.0</td>\n",
       "      <td>7.0</td>\n",
       "      <td>8.0</td>\n",
       "    </tr>\n",
       "    <tr>\n",
       "      <th>predicts</th>\n",
       "      <td>10.0</td>\n",
       "      <td>13.00</td>\n",
       "      <td>16.0</td>\n",
       "      <td>19.00</td>\n",
       "      <td>22.0</td>\n",
       "      <td>25.0</td>\n",
       "      <td>28.0</td>\n",
       "      <td>31.0</td>\n",
       "    </tr>\n",
       "    <tr>\n",
       "      <th>errors</th>\n",
       "      <td>0.0</td>\n",
       "      <td>4.00</td>\n",
       "      <td>0.0</td>\n",
       "      <td>4.00</td>\n",
       "      <td>0.0</td>\n",
       "      <td>6.0</td>\n",
       "      <td>20.0</td>\n",
       "      <td>14.0</td>\n",
       "    </tr>\n",
       "    <tr>\n",
       "      <th>rank(e)</th>\n",
       "      <td>2.0</td>\n",
       "      <td>4.50</td>\n",
       "      <td>2.0</td>\n",
       "      <td>4.50</td>\n",
       "      <td>2.0</td>\n",
       "      <td>6.0</td>\n",
       "      <td>8.0</td>\n",
       "      <td>7.0</td>\n",
       "    </tr>\n",
       "    <tr>\n",
       "      <th>di</th>\n",
       "      <td>1.0</td>\n",
       "      <td>2.50</td>\n",
       "      <td>-1.0</td>\n",
       "      <td>0.50</td>\n",
       "      <td>-3.0</td>\n",
       "      <td>0.0</td>\n",
       "      <td>1.0</td>\n",
       "      <td>-1.0</td>\n",
       "    </tr>\n",
       "    <tr>\n",
       "      <th>di^2</th>\n",
       "      <td>1.0</td>\n",
       "      <td>6.25</td>\n",
       "      <td>1.0</td>\n",
       "      <td>0.25</td>\n",
       "      <td>9.0</td>\n",
       "      <td>0.0</td>\n",
       "      <td>1.0</td>\n",
       "      <td>1.0</td>\n",
       "    </tr>\n",
       "  </tbody>\n",
       "</table>\n",
       "</div>"
      ],
      "text/plain": [
       "             1      2     3      4     5     6     7     8\n",
       "Y         10.0  17.00  16.0  15.00  22.0  31.0   8.0  45.0\n",
       "X          2.0   3.00   4.0   5.00   6.0   7.0   8.0   9.0\n",
       "rank(x)    1.0   2.00   3.0   4.00   5.0   6.0   7.0   8.0\n",
       "predicts  10.0  13.00  16.0  19.00  22.0  25.0  28.0  31.0\n",
       "errors     0.0   4.00   0.0   4.00   0.0   6.0  20.0  14.0\n",
       "rank(e)    2.0   4.50   2.0   4.50   2.0   6.0   8.0   7.0\n",
       "di         1.0   2.50  -1.0   0.50  -3.0   0.0   1.0  -1.0\n",
       "di^2       1.0   6.25   1.0   0.25   9.0   0.0   1.0   1.0"
      ]
     },
     "execution_count": 42,
     "metadata": {},
     "output_type": "execute_result"
    }
   ],
   "source": [
    "df[\"rank(x)\"] = df[\"X\"].rank()\n",
    "df[\"predicts\"] = predicts\n",
    "df[\"errors\"] = np.abs(err)\n",
    "df[\"rank(e)\"] = df[\"errors\"].rank()\n",
    "df[\"di\"] = df[\"rank(e)\"]-df[\"rank(x)\"]\n",
    "df[\"di^2\"] = df[\"di\"]**2\n",
    "df.T"
   ]
  },
  {
   "cell_type": "code",
   "execution_count": 43,
   "id": "8bdc8387-f53a-4ff0-adb3-aaa759606d43",
   "metadata": {},
   "outputs": [
    {
     "data": {
      "text/plain": [
       "0.7678571428571428"
      ]
     },
     "execution_count": 43,
     "metadata": {},
     "output_type": "execute_result"
    }
   ],
   "source": [
    "rs = 1 - ((6*df[\"di^2\"].sum())/(n*(n**2)-n))\n",
    "rs"
   ]
  },
  {
   "cell_type": "markdown",
   "id": "5da819b8-ef1e-4c8a-9778-fe42c0c5d0f1",
   "metadata": {},
   "source": [
    "$$H_0 : \\rho = 0$$<br>$$H_s : \\rho \\neq 0$$"
   ]
  },
  {
   "cell_type": "code",
   "execution_count": 44,
   "id": "3ddd6cb4-a541-4439-b965-c9b5a3f0a6f3",
   "metadata": {},
   "outputs": [
    {
     "data": {
      "text/plain": [
       "2.936"
      ]
     },
     "execution_count": 44,
     "metadata": {},
     "output_type": "execute_result"
    }
   ],
   "source": [
    "t = np.round(((rs)*(np.sqrt(n-2)))/(np.sqrt(1-rs**2)),3)\n",
    "t"
   ]
  },
  {
   "cell_type": "code",
   "execution_count": 45,
   "id": "0d086358-f4e6-4044-942a-c90a77231e95",
   "metadata": {},
   "outputs": [
    {
     "name": "stdout",
     "output_type": "stream",
     "text": [
      "th(-1.943) < t(2.936). You can reject the null hypothesis. There is heteroskedasticity. \n"
     ]
    }
   ],
   "source": [
    "import scipy.stats as ss\n",
    "th = np.round(ss.t.ppf(q=0.05,df=n-2),3)#tablo\n",
    "if th>t:\n",
    "    print(f\"th({th}) > t({t}). You fail to reject the null hypothesis. There is not heteroskedasticity.\")\n",
    "else:\n",
    "    print(f\"th({th}) < t({t}). You can reject the null hypothesis. There is heteroskedasticity. \")\n"
   ]
  },
  {
   "cell_type": "markdown",
   "id": "2439407d-9a25-49fe-93de-e8c88cf7e74b",
   "metadata": {},
   "source": [
    "### Autocorrelation"
   ]
  },
  {
   "cell_type": "code",
   "execution_count": 34,
   "id": "17fce86e-3cd7-428e-8a57-1ce27adfffcb",
   "metadata": {},
   "outputs": [
    {
     "data": {
      "text/html": [
       "<div>\n",
       "<style scoped>\n",
       "    .dataframe tbody tr th:only-of-type {\n",
       "        vertical-align: middle;\n",
       "    }\n",
       "\n",
       "    .dataframe tbody tr th {\n",
       "        vertical-align: top;\n",
       "    }\n",
       "\n",
       "    .dataframe thead th {\n",
       "        text-align: right;\n",
       "    }\n",
       "</style>\n",
       "<table border=\"1\" class=\"dataframe\">\n",
       "  <thead>\n",
       "    <tr style=\"text-align: right;\">\n",
       "      <th></th>\n",
       "      <th>Y</th>\n",
       "      <th>X</th>\n",
       "      <th>rank(x)</th>\n",
       "      <th>predicts</th>\n",
       "      <th>errors</th>\n",
       "      <th>rank(e)</th>\n",
       "      <th>di</th>\n",
       "      <th>di^2</th>\n",
       "      <th>etet_1</th>\n",
       "    </tr>\n",
       "  </thead>\n",
       "  <tbody>\n",
       "    <tr>\n",
       "      <th>1</th>\n",
       "      <td>10</td>\n",
       "      <td>2</td>\n",
       "      <td>1.0</td>\n",
       "      <td>10.0</td>\n",
       "      <td>0.0</td>\n",
       "      <td>4.0</td>\n",
       "      <td>3.0</td>\n",
       "      <td>9.0</td>\n",
       "      <td>0.0</td>\n",
       "    </tr>\n",
       "    <tr>\n",
       "      <th>2</th>\n",
       "      <td>17</td>\n",
       "      <td>3</td>\n",
       "      <td>2.0</td>\n",
       "      <td>13.0</td>\n",
       "      <td>4.0</td>\n",
       "      <td>6.0</td>\n",
       "      <td>4.0</td>\n",
       "      <td>16.0</td>\n",
       "      <td>0.0</td>\n",
       "    </tr>\n",
       "    <tr>\n",
       "      <th>3</th>\n",
       "      <td>16</td>\n",
       "      <td>4</td>\n",
       "      <td>3.0</td>\n",
       "      <td>16.0</td>\n",
       "      <td>0.0</td>\n",
       "      <td>4.0</td>\n",
       "      <td>1.0</td>\n",
       "      <td>1.0</td>\n",
       "      <td>0.0</td>\n",
       "    </tr>\n",
       "    <tr>\n",
       "      <th>4</th>\n",
       "      <td>15</td>\n",
       "      <td>5</td>\n",
       "      <td>4.0</td>\n",
       "      <td>19.0</td>\n",
       "      <td>-4.0</td>\n",
       "      <td>2.0</td>\n",
       "      <td>-2.0</td>\n",
       "      <td>4.0</td>\n",
       "      <td>-0.0</td>\n",
       "    </tr>\n",
       "    <tr>\n",
       "      <th>5</th>\n",
       "      <td>22</td>\n",
       "      <td>6</td>\n",
       "      <td>5.0</td>\n",
       "      <td>22.0</td>\n",
       "      <td>0.0</td>\n",
       "      <td>4.0</td>\n",
       "      <td>-1.0</td>\n",
       "      <td>1.0</td>\n",
       "      <td>-0.0</td>\n",
       "    </tr>\n",
       "    <tr>\n",
       "      <th>6</th>\n",
       "      <td>31</td>\n",
       "      <td>7</td>\n",
       "      <td>6.0</td>\n",
       "      <td>25.0</td>\n",
       "      <td>6.0</td>\n",
       "      <td>7.0</td>\n",
       "      <td>1.0</td>\n",
       "      <td>1.0</td>\n",
       "      <td>0.0</td>\n",
       "    </tr>\n",
       "    <tr>\n",
       "      <th>7</th>\n",
       "      <td>8</td>\n",
       "      <td>8</td>\n",
       "      <td>7.0</td>\n",
       "      <td>28.0</td>\n",
       "      <td>-20.0</td>\n",
       "      <td>1.0</td>\n",
       "      <td>-6.0</td>\n",
       "      <td>36.0</td>\n",
       "      <td>-120.0</td>\n",
       "    </tr>\n",
       "    <tr>\n",
       "      <th>8</th>\n",
       "      <td>45</td>\n",
       "      <td>9</td>\n",
       "      <td>8.0</td>\n",
       "      <td>31.0</td>\n",
       "      <td>14.0</td>\n",
       "      <td>8.0</td>\n",
       "      <td>0.0</td>\n",
       "      <td>0.0</td>\n",
       "      <td>-280.0</td>\n",
       "    </tr>\n",
       "  </tbody>\n",
       "</table>\n",
       "</div>"
      ],
      "text/plain": [
       "    Y  X  rank(x)  predicts  errors  rank(e)   di  di^2  etet_1\n",
       "1  10  2      1.0      10.0     0.0      4.0  3.0   9.0     0.0\n",
       "2  17  3      2.0      13.0     4.0      6.0  4.0  16.0     0.0\n",
       "3  16  4      3.0      16.0     0.0      4.0  1.0   1.0     0.0\n",
       "4  15  5      4.0      19.0    -4.0      2.0 -2.0   4.0    -0.0\n",
       "5  22  6      5.0      22.0     0.0      4.0 -1.0   1.0    -0.0\n",
       "6  31  7      6.0      25.0     6.0      7.0  1.0   1.0     0.0\n",
       "7   8  8      7.0      28.0   -20.0      1.0 -6.0  36.0  -120.0\n",
       "8  45  9      8.0      31.0    14.0      8.0  0.0   0.0  -280.0"
      ]
     },
     "execution_count": 34,
     "metadata": {},
     "output_type": "execute_result"
    }
   ],
   "source": [
    "et = []\n",
    "for i in range(n):\n",
    "    et.append(err[i]*err[i-1])\n",
    "df[\"etet_1\"] = et\n",
    "df"
   ]
  },
  {
   "cell_type": "code",
   "execution_count": 46,
   "id": "e0b438b6",
   "metadata": {},
   "outputs": [
    {
     "data": {
      "text/plain": [
       "664.0"
      ]
     },
     "execution_count": 46,
     "metadata": {},
     "output_type": "execute_result"
    }
   ],
   "source": [
    "sse"
   ]
  },
  {
   "cell_type": "code",
   "execution_count": 36,
   "id": "1c3e3b9c-01a5-4c0b-a767-bcdd66abbfd3",
   "metadata": {},
   "outputs": [
    {
     "data": {
      "text/plain": [
       "-0.6024096385542169"
      ]
     },
     "execution_count": 36,
     "metadata": {},
     "output_type": "execute_result"
    }
   ],
   "source": [
    "rho = df[\"etet_1\"].sum()/sse\n",
    "rho"
   ]
  },
  {
   "cell_type": "markdown",
   "id": "efec73aa-9377-4c2d-b001-37b887c81b02",
   "metadata": {},
   "source": [
    "There is negative autocorrelation"
   ]
  },
  {
   "cell_type": "code",
   "execution_count": null,
   "id": "21a7232e",
   "metadata": {},
   "outputs": [],
   "source": []
  }
 ],
 "metadata": {
  "kernelspec": {
   "display_name": "Python 3",
   "language": "python",
   "name": "python3"
  },
  "language_info": {
   "codemirror_mode": {
    "name": "ipython",
    "version": 3
   },
   "file_extension": ".py",
   "mimetype": "text/x-python",
   "name": "python",
   "nbconvert_exporter": "python",
   "pygments_lexer": "ipython3",
   "version": "3.8.8"
  }
 },
 "nbformat": 4,
 "nbformat_minor": 5
}
